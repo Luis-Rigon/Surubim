{
 "cells": [
  {
   "cell_type": "code",
   "execution_count": 27,
   "id": "0010674c",
   "metadata": {},
   "outputs": [],
   "source": [
    "import random\n",
    "\n",
    "playing = False\n",
    "chip_pool = 100\n",
    "\n",
    "restart_frase = \"Press d to shuffle again or press q to quit\""
   ]
  },
  {
   "cell_type": "code",
   "execution_count": 28,
   "id": "3ca177c0",
   "metadata": {},
   "outputs": [],
   "source": [
    "\n",
    "naipes = ['Espadas', 'Copas', 'Paus', 'Ouros']\n",
    "numero = ['A', '2', '3', '4', '5', '6', '7', '8', '9', '10', 'J', 'Q', 'K']\n",
    "valor_carta = {'A':1, '2':2, '3':3, '4':4, '5':5, '6':6, '7':7, '8':8, '9':9, '10':10, 'J':10, 'Q':10, 'K':10}"
   ]
  },
  {
   "cell_type": "code",
   "execution_count": 29,
   "id": "69525427",
   "metadata": {},
   "outputs": [],
   "source": [
    "class Carta:\n",
    "    def ___init___(naipes, numero, self):\n",
    "        self.naipes = naipes\n",
    "        self.numero = numero\n",
    "    \n",
    "    def ___str___(self):\n",
    "        return self.naipes +self.numero\n",
    "    \n",
    "    def grab_naipe(self):\n",
    "        return self.naipes\n",
    "    \n",
    "    def grab_baralho(self):\n",
    "        return self.numero\n",
    "    \n",
    "    def draw(self):\n",
    "        print(self.numero + self.naipes)\n",
    "    "
   ]
  },
  {
   "cell_type": "code",
   "execution_count": 30,
   "id": "d9a3e826",
   "metadata": {},
   "outputs": [],
   "source": [
    "class mao:\n",
    "    def ___init___(self):\n",
    "        self.mao = []\n",
    "        self.valor = 0\n",
    "        self.ace = False\n",
    "    \n",
    "    def ___str___(self):\n",
    "        hand_comp = \"\"\n",
    "        \n",
    "        for carta in self.mao:\n",
    "            nome_carta = carta.___str___()\n",
    "            hand_comp += \"\" + nome_carta\n",
    "        return \"A sua mão é {}\".format(hand_comp)\n",
    "    \n",
    "    def add_carta(self, carta):\n",
    "        self.mao.append(carta)\n",
    "        \n",
    "        if carta.num == 'A':\n",
    "            self.ace = True\n",
    "        self.valor += valor_carta[carta.numeros]\n",
    "    \n",
    "    def val_mao(self):\n",
    "        if (self.ace == 'True' and self.valor < 12):\n",
    "            return self.valor + 10\n",
    "        else:\n",
    "            return self.valor\n",
    "        \n",
    "    def draw(hidden, self):\n",
    "        if self.hidden == True and playing == True:\n",
    "            starting_carta = 1\n",
    "        else:\n",
    "            starting_carta = 0\n",
    "        for x in range(0, len(self.mao)):\n",
    "            self.mao[x].draw()\n",
    "            "
   ]
  },
  {
   "cell_type": "code",
   "execution_count": 31,
   "id": "2b81a6b2",
   "metadata": {},
   "outputs": [],
   "source": [
    "class Baralho:\n",
    "    def ___init___(self):\n",
    "        self.baralho = []\n",
    "        \n",
    "        for naipe in naipes:\n",
    "            for num in numero:\n",
    "                self.baralho.append(Carta(naipe, num0))\n",
    "                \n",
    "    def embaralhar(self):\n",
    "        random.shuffle(self.Baralho)\n",
    "        \n",
    "    def deal(self):\n",
    "        uma_carta = self.baralho.pop()\n",
    "        return uma_carta\n",
    "    \n",
    "    def ___str___(self):\n",
    "        baralho_comp = \"\"\n",
    "        for carta in self.baralho:\n",
    "            baralho_comp += \" \" + card.___str___()\n",
    "        \n",
    "        return \"The deck has \" + baralho_comp"
   ]
  },
  {
   "cell_type": "code",
   "execution_count": 32,
   "id": "efd295e3",
   "metadata": {},
   "outputs": [],
   "source": [
    "def make_bet():\n",
    "    global bet\n",
    "    bet = 0\n",
    "    \n",
    "    while bet == 0:\n",
    "        bet_comp = input(\"quantas fichas quer apostar?\")\n",
    "        bet_comp = int(bet_comp)\n",
    "        \n",
    "        if bet_comp >= 1 and bet_comp <= chip_pool:\n",
    "            bet_comp = bet\n",
    "        else:\n",
    "            print(\"Aposta invalida. Voce tem \" +str(chip_pool) + \" fichas restantes\")"
   ]
  },
  {
   "cell_type": "code",
   "execution_count": 33,
   "id": "71e695a1",
   "metadata": {},
   "outputs": [],
   "source": [
    "def deal_cards():\n",
    "    global result, playing, baralho, player_hand, dealer_hand, chip_pool, bet\n",
    "    \n",
    "    baralho = Baralho()\n",
    "    baralho.embaralhar()\n",
    "    \n",
    "    make_bet()\n",
    "    \n",
    "    player_hand = mao()\n",
    "    dealer_hand = mao()\n",
    "    \n",
    "    player_hand.add_carta(baralho.deal())\n",
    "    player_hand.add_carta(baralho.deal())\n",
    "   \n",
    "    dealer_hand.add_carta(baralho.deal())\n",
    "    dealer_hand.add_carta(baralho.deal())\n",
    "    \n",
    "    result = \"Hit or Stand? Press 'h' or 's': \"\n",
    "    \n",
    "    playing = True\n",
    "    game_step()    "
   ]
  },
  {
   "cell_type": "code",
   "execution_count": 34,
   "id": "4d137c50",
   "metadata": {},
   "outputs": [],
   "source": [
    "def stand():\n",
    "    global playing, chip_pool, baralho, player_hand, dealer_hand, result, bet\n",
    "    \n",
    "    if playing == False:\n",
    "        if player_hand.val_mao() > 0:\n",
    "            result = \"Sorry, can't stand\"\n",
    "    \n",
    "    else:\n",
    "        while dealer_hand.val_mao() < 17:\n",
    "            dealer_hand.add_carta(baralho.deal())\n",
    "            \n",
    "        if dealer_hand.valor_mao() > 21:\n",
    "            result = \"dealer busts! you win!!! \" + restart_phrase\n",
    "            chip_pool += bet\n",
    "            playing = False\n",
    "        \n",
    "        elif dealer_hand.valor_mao() < player_hand.valor_mao():\n",
    "            result = \"You bet the dealer!! You win!!\" + \" restart phrase\"\n",
    "            playing = False\n",
    "        \n",
    "        elif dealer_hand.valor_mao() == player_hand.valor_mao():\n",
    "            result = \"Tied up!\" + restart_phrase\n",
    "            \n",
    "        else:\n",
    "            result = \" Dealer wins!\" + restart_phrase\n",
    "            chip_pool -= bet\n",
    "            playing = False\n",
    "    game_step()"
   ]
  },
  {
   "cell_type": "code",
   "execution_count": 35,
   "id": "bb020c4c",
   "metadata": {},
   "outputs": [],
   "source": [
    "def hit():\n",
    "    global playing, chip_pool, deck, player_hand, dealer_hand, result, bet\n",
    "    \n",
    "    if playing == False:\n",
    "        if player_hand.valor_mao() < 21:\n",
    "            player_hand.add_carta(baralho.deal())\n",
    "        print(\"player hand is \", player_hand)\n",
    "        \n",
    "        if player_hand.valor_mao >= 21:\n",
    "            result = \"Busted! \" + restart_phrase\n",
    "            chip_pool -= bet\n",
    "            playing = False\n",
    "    else:\n",
    "        result = \"Sorry, you can't hit\" + restart_phrase\n",
    "        \n",
    "    game_step()"
   ]
  },
  {
   "cell_type": "code",
   "execution_count": 36,
   "id": "44c4b02d",
   "metadata": {},
   "outputs": [],
   "source": [
    "def game_step():\n",
    "    print(\"\")\n",
    "    print(\"Player hand is:\")\n",
    "    player_hand.draw(hidden = False)\n",
    "    print(\"Player hand total is:\"+ str(player_hand.valor_mao()))\n",
    "    print(\"Dealer hand is:\")\n",
    "    dealer_hand.draw(hidden = True)\n",
    "    print(\"dealer total hand is :\" + str(dealer_hand.valor_mao()))\n",
    "    \n",
    "    if playing == False:\n",
    "        print(\"Chip total\" + str(chip_pool))\n",
    "        \n",
    "    print(result)\n",
    "    \n",
    "    player_input()"
   ]
  },
  {
   "cell_type": "code",
   "execution_count": 37,
   "id": "d4a7f5a4",
   "metadata": {},
   "outputs": [],
   "source": [
    "def player_input():\n",
    "    pin = input().lower()\n",
    "    \n",
    "    if pin == 'h':\n",
    "        hit()\n",
    "        \n",
    "    elif pin == 's':\n",
    "        stand()\n",
    "    \n",
    "    elif plin == 'd':\n",
    "        deal_cards()\n",
    "    \n",
    "    elif pin == 'q':\n",
    "        game_exit()\n",
    "    \n",
    "    else:\n",
    "        print(\"invalid input\")\n",
    "        player_input()"
   ]
  },
  {
   "cell_type": "code",
   "execution_count": 38,
   "id": "53ab76bf",
   "metadata": {},
   "outputs": [],
   "source": [
    "def intro():\n",
    "    statement = '''Welcome to BlackJack! Get as close to 21 as you can without going over!\n",
    "    Dealer hits until she reaches 17. Aces count as 1 or 11.\n",
    "    Card output goes a letter followed by a number of face notation'''\n",
    "    print(statement)"
   ]
  },
  {
   "cell_type": "code",
   "execution_count": 40,
   "id": "68be3070",
   "metadata": {},
   "outputs": [
    {
     "ename": "TypeError",
     "evalue": "'Baralho' object is not callable",
     "output_type": "error",
     "traceback": [
      "\u001b[1;31m---------------------------------------------------------------------------\u001b[0m",
      "\u001b[1;31mTypeError\u001b[0m                                 Traceback (most recent call last)",
      "\u001b[1;32mc:\\Users\\lhrig\\blackjack.ipynb Cell 13'\u001b[0m in \u001b[0;36m<cell line: 1>\u001b[1;34m()\u001b[0m\n\u001b[1;32m----> <a href='vscode-notebook-cell:/c%3A/Users/lhrig/blackjack.ipynb#ch0000012?line=0'>1</a>\u001b[0m baralho \u001b[39m=\u001b[39m baralho()\n\u001b[0;32m      <a href='vscode-notebook-cell:/c%3A/Users/lhrig/blackjack.ipynb#ch0000012?line=1'>2</a>\u001b[0m baralho\u001b[39m.\u001b[39mshuffle()\n\u001b[0;32m      <a href='vscode-notebook-cell:/c%3A/Users/lhrig/blackjack.ipynb#ch0000012?line=3'>4</a>\u001b[0m player_hand \u001b[39m=\u001b[39m mao()\n",
      "\u001b[1;31mTypeError\u001b[0m: 'Baralho' object is not callable"
     ]
    }
   ],
   "source": [
    "baralho = baralho()\n",
    "baralho.shuffle()\n",
    "\n",
    "player_hand = mao()\n",
    "dealder_hand = mao()\n",
    "\n",
    "intro()\n",
    "deal_cards()"
   ]
  },
  {
   "cell_type": "code",
   "execution_count": null,
   "id": "78cfe6de",
   "metadata": {},
   "outputs": [],
   "source": []
  },
  {
   "cell_type": "code",
   "execution_count": null,
   "id": "e3545645",
   "metadata": {},
   "outputs": [],
   "source": []
  }
 ],
 "metadata": {
  "interpreter": {
   "hash": "a7e1900a55d1c9d6591220864c92b6998a5b4d4c83dd71e8715f573760ca0dae"
  },
  "kernelspec": {
   "display_name": "Python 3.9.12 64-bit (windows store)",
   "language": "python",
   "name": "python3"
  },
  "language_info": {
   "codemirror_mode": {
    "name": "ipython",
    "version": 3
   },
   "file_extension": ".py",
   "mimetype": "text/x-python",
   "name": "python",
   "nbconvert_exporter": "python",
   "pygments_lexer": "ipython3",
   "version": "3.9.13"
  }
 },
 "nbformat": 4,
 "nbformat_minor": 5
}
